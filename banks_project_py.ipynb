{
  "nbformat": 4,
  "nbformat_minor": 0,
  "metadata": {
    "colab": {
      "provenance": [],
      "authorship_tag": "ABX9TyOgsY4nYIPf+BvkeE9f67bC",
      "include_colab_link": true
    },
    "kernelspec": {
      "name": "python3",
      "display_name": "Python 3"
    },
    "language_info": {
      "name": "python"
    }
  },
  "cells": [
    {
      "cell_type": "markdown",
      "metadata": {
        "id": "view-in-github",
        "colab_type": "text"
      },
      "source": [
        "<a href=\"https://colab.research.google.com/github/Gzim30/Gzim30/blob/main/banks_project_py.ipynb\" target=\"_parent\"><img src=\"https://colab.research.google.com/assets/colab-badge.svg\" alt=\"Open In Colab\"/></a>"
      ]
    },
    {
      "cell_type": "code",
      "execution_count": 1,
      "metadata": {
        "id": "FP4GsZmfzddI"
      },
      "outputs": [],
      "source": [
        "import requests\n",
        "import pandas as pd\n",
        "import numpy as np\n",
        "from bs4 import BeautifulSoup\n",
        "import sqlite3\n",
        "import datetime"
      ]
    },
    {
      "cell_type": "code",
      "source": [
        "from google.colab import files\n",
        "uploaded = files.upload()\n",
        "\n"
      ],
      "metadata": {
        "colab": {
          "base_uri": "https://localhost:8080/",
          "height": 73
        },
        "id": "9nGaHXul0gHJ",
        "outputId": "58b04708-1069-4450-ef21-c9da9946d2a8"
      },
      "execution_count": 2,
      "outputs": [
        {
          "output_type": "display_data",
          "data": {
            "text/plain": [
              "<IPython.core.display.HTML object>"
            ],
            "text/html": [
              "\n",
              "     <input type=\"file\" id=\"files-cc7dd4b6-74ef-45fa-9ee1-89c3f8c0b270\" name=\"files[]\" multiple disabled\n",
              "        style=\"border:none\" />\n",
              "     <output id=\"result-cc7dd4b6-74ef-45fa-9ee1-89c3f8c0b270\">\n",
              "      Upload widget is only available when the cell has been executed in the\n",
              "      current browser session. Please rerun this cell to enable.\n",
              "      </output>\n",
              "      <script>// Copyright 2017 Google LLC\n",
              "//\n",
              "// Licensed under the Apache License, Version 2.0 (the \"License\");\n",
              "// you may not use this file except in compliance with the License.\n",
              "// You may obtain a copy of the License at\n",
              "//\n",
              "//      http://www.apache.org/licenses/LICENSE-2.0\n",
              "//\n",
              "// Unless required by applicable law or agreed to in writing, software\n",
              "// distributed under the License is distributed on an \"AS IS\" BASIS,\n",
              "// WITHOUT WARRANTIES OR CONDITIONS OF ANY KIND, either express or implied.\n",
              "// See the License for the specific language governing permissions and\n",
              "// limitations under the License.\n",
              "\n",
              "/**\n",
              " * @fileoverview Helpers for google.colab Python module.\n",
              " */\n",
              "(function(scope) {\n",
              "function span(text, styleAttributes = {}) {\n",
              "  const element = document.createElement('span');\n",
              "  element.textContent = text;\n",
              "  for (const key of Object.keys(styleAttributes)) {\n",
              "    element.style[key] = styleAttributes[key];\n",
              "  }\n",
              "  return element;\n",
              "}\n",
              "\n",
              "// Max number of bytes which will be uploaded at a time.\n",
              "const MAX_PAYLOAD_SIZE = 100 * 1024;\n",
              "\n",
              "function _uploadFiles(inputId, outputId) {\n",
              "  const steps = uploadFilesStep(inputId, outputId);\n",
              "  const outputElement = document.getElementById(outputId);\n",
              "  // Cache steps on the outputElement to make it available for the next call\n",
              "  // to uploadFilesContinue from Python.\n",
              "  outputElement.steps = steps;\n",
              "\n",
              "  return _uploadFilesContinue(outputId);\n",
              "}\n",
              "\n",
              "// This is roughly an async generator (not supported in the browser yet),\n",
              "// where there are multiple asynchronous steps and the Python side is going\n",
              "// to poll for completion of each step.\n",
              "// This uses a Promise to block the python side on completion of each step,\n",
              "// then passes the result of the previous step as the input to the next step.\n",
              "function _uploadFilesContinue(outputId) {\n",
              "  const outputElement = document.getElementById(outputId);\n",
              "  const steps = outputElement.steps;\n",
              "\n",
              "  const next = steps.next(outputElement.lastPromiseValue);\n",
              "  return Promise.resolve(next.value.promise).then((value) => {\n",
              "    // Cache the last promise value to make it available to the next\n",
              "    // step of the generator.\n",
              "    outputElement.lastPromiseValue = value;\n",
              "    return next.value.response;\n",
              "  });\n",
              "}\n",
              "\n",
              "/**\n",
              " * Generator function which is called between each async step of the upload\n",
              " * process.\n",
              " * @param {string} inputId Element ID of the input file picker element.\n",
              " * @param {string} outputId Element ID of the output display.\n",
              " * @return {!Iterable<!Object>} Iterable of next steps.\n",
              " */\n",
              "function* uploadFilesStep(inputId, outputId) {\n",
              "  const inputElement = document.getElementById(inputId);\n",
              "  inputElement.disabled = false;\n",
              "\n",
              "  const outputElement = document.getElementById(outputId);\n",
              "  outputElement.innerHTML = '';\n",
              "\n",
              "  const pickedPromise = new Promise((resolve) => {\n",
              "    inputElement.addEventListener('change', (e) => {\n",
              "      resolve(e.target.files);\n",
              "    });\n",
              "  });\n",
              "\n",
              "  const cancel = document.createElement('button');\n",
              "  inputElement.parentElement.appendChild(cancel);\n",
              "  cancel.textContent = 'Cancel upload';\n",
              "  const cancelPromise = new Promise((resolve) => {\n",
              "    cancel.onclick = () => {\n",
              "      resolve(null);\n",
              "    };\n",
              "  });\n",
              "\n",
              "  // Wait for the user to pick the files.\n",
              "  const files = yield {\n",
              "    promise: Promise.race([pickedPromise, cancelPromise]),\n",
              "    response: {\n",
              "      action: 'starting',\n",
              "    }\n",
              "  };\n",
              "\n",
              "  cancel.remove();\n",
              "\n",
              "  // Disable the input element since further picks are not allowed.\n",
              "  inputElement.disabled = true;\n",
              "\n",
              "  if (!files) {\n",
              "    return {\n",
              "      response: {\n",
              "        action: 'complete',\n",
              "      }\n",
              "    };\n",
              "  }\n",
              "\n",
              "  for (const file of files) {\n",
              "    const li = document.createElement('li');\n",
              "    li.append(span(file.name, {fontWeight: 'bold'}));\n",
              "    li.append(span(\n",
              "        `(${file.type || 'n/a'}) - ${file.size} bytes, ` +\n",
              "        `last modified: ${\n",
              "            file.lastModifiedDate ? file.lastModifiedDate.toLocaleDateString() :\n",
              "                                    'n/a'} - `));\n",
              "    const percent = span('0% done');\n",
              "    li.appendChild(percent);\n",
              "\n",
              "    outputElement.appendChild(li);\n",
              "\n",
              "    const fileDataPromise = new Promise((resolve) => {\n",
              "      const reader = new FileReader();\n",
              "      reader.onload = (e) => {\n",
              "        resolve(e.target.result);\n",
              "      };\n",
              "      reader.readAsArrayBuffer(file);\n",
              "    });\n",
              "    // Wait for the data to be ready.\n",
              "    let fileData = yield {\n",
              "      promise: fileDataPromise,\n",
              "      response: {\n",
              "        action: 'continue',\n",
              "      }\n",
              "    };\n",
              "\n",
              "    // Use a chunked sending to avoid message size limits. See b/62115660.\n",
              "    let position = 0;\n",
              "    do {\n",
              "      const length = Math.min(fileData.byteLength - position, MAX_PAYLOAD_SIZE);\n",
              "      const chunk = new Uint8Array(fileData, position, length);\n",
              "      position += length;\n",
              "\n",
              "      const base64 = btoa(String.fromCharCode.apply(null, chunk));\n",
              "      yield {\n",
              "        response: {\n",
              "          action: 'append',\n",
              "          file: file.name,\n",
              "          data: base64,\n",
              "        },\n",
              "      };\n",
              "\n",
              "      let percentDone = fileData.byteLength === 0 ?\n",
              "          100 :\n",
              "          Math.round((position / fileData.byteLength) * 100);\n",
              "      percent.textContent = `${percentDone}% done`;\n",
              "\n",
              "    } while (position < fileData.byteLength);\n",
              "  }\n",
              "\n",
              "  // All done.\n",
              "  yield {\n",
              "    response: {\n",
              "      action: 'complete',\n",
              "    }\n",
              "  };\n",
              "}\n",
              "\n",
              "scope.google = scope.google || {};\n",
              "scope.google.colab = scope.google.colab || {};\n",
              "scope.google.colab._files = {\n",
              "  _uploadFiles,\n",
              "  _uploadFilesContinue,\n",
              "};\n",
              "})(self);\n",
              "</script> "
            ]
          },
          "metadata": {}
        },
        {
          "output_type": "stream",
          "name": "stdout",
          "text": [
            "Saving exchange_rate.csv to exchange_rate.csv\n"
          ]
        }
      ]
    },
    {
      "cell_type": "code",
      "source": [
        "import pandas as pd\n",
        "\n",
        "# Load the exchange rate CSV file into a DataFrame\n",
        "exchange_rate_df = pd.read_csv('exchange_rate.csv')\n",
        "\n",
        "# Display the DataFrame to verify that it was loaded correctly\n",
        "print(exchange_rate_df)\n"
      ],
      "metadata": {
        "colab": {
          "base_uri": "https://localhost:8080/"
        },
        "id": "EBdOpTw82OGB",
        "outputId": "ee8ea32c-cff5-4513-b9d6-fc7f9581d23b"
      },
      "execution_count": 3,
      "outputs": [
        {
          "output_type": "stream",
          "name": "stdout",
          "text": [
            "  Currency   Rate\n",
            "0      EUR   0.93\n",
            "1      GBP   0.80\n",
            "2      INR  82.95\n"
          ]
        }
      ]
    },
    {
      "cell_type": "code",
      "source": [
        "# Code for ETL operations on Country-GDP data\n",
        "# Importing the required libraries\n",
        "import pandas as pd\n",
        "\n",
        "def log_progress(message):\n",
        "    ''' This function logs the mentioned message of a given stage of the\n",
        "    code execution to a log file. Function returns nothing'''\n",
        "\n",
        "def extract(url, table_attribs):\n",
        "    ''' This function aims to extract the required\n",
        "    information from the website and save it to a data frame. The\n",
        "    function returns the data frame for further processing. '''\n",
        "    return df\n",
        "\n",
        "def transform(df, csv_path):\n",
        "    ''' This function accesses the CSV file for exchange rate\n",
        "    information, and adds three columns to the data frame, each\n",
        "    containing the transformed version of Market Cap column to\n",
        "    respective currencies'''\n",
        "    return df\n",
        "\n",
        "def load_to_csv(df, output_path):\n",
        "    ''' This function saves the final data frame as a CSV file in\n",
        "    the provided path. Function returns nothing.'''\n",
        "\n",
        "def load_to_db(df, sql_connection, table_name):\n",
        "    ''' This function saves the final data frame to a database\n",
        "    table with the provided name. Function returns nothing.'''\n",
        "\n",
        "def run_query(query_statement, sql_connection):\n",
        "    ''' This function runs the query on the database table and\n",
        "    prints the output on the terminal. Function returns nothing. '''\n"
      ],
      "metadata": {
        "id": "Ulk5R8YT3jLb"
      },
      "execution_count": 6,
      "outputs": []
    },
    {
      "cell_type": "code",
      "source": [
        "import datetime\n",
        "\n",
        "def log_progress(message):\n",
        "    '''\n",
        "    This function logs the mentioned message of a given stage of the\n",
        "    code execution to a log file. Function returns nothing.\n",
        "    '''\n",
        "    # Generate timestamp\n",
        "    timestamp = datetime.datetime.now().strftime('%Y-%m-%d %H:%M:%S')\n",
        "\n",
        "    # Log message format\n",
        "    log_message = f\"{timestamp} : {message}\\n\"\n",
        "\n",
        "    # Write log message to file\n",
        "    with open('code_log.txt', 'a') as log_file:\n",
        "        log_file.write(log_message)\n",
        "\n",
        "# Log the first message\n",
        "log_progress(\"Preliminaries complete. Initiating ETL process\")\n"
      ],
      "metadata": {
        "id": "xynGYNJ24FXQ"
      },
      "execution_count": 7,
      "outputs": []
    },
    {
      "cell_type": "code",
      "source": [
        "import requests\n",
        "from bs4 import BeautifulSoup\n",
        "import pandas as pd\n",
        "import datetime\n",
        "\n",
        "def log_progress(message):\n",
        "    '''\n",
        "    This function logs the mentioned message of a given stage of the\n",
        "    code execution to a log file. Function returns nothing.\n",
        "    '''\n",
        "    # Generate timestamp\n",
        "    timestamp = datetime.datetime.now().strftime('%Y-%m-%d %H:%M:%S')\n",
        "\n",
        "    # Log message format\n",
        "    log_message = f\"{timestamp} : {message}\\n\"\n",
        "\n",
        "    # Write log message to file\n",
        "    with open('code_log.txt', 'a') as log_file:\n",
        "        log_file.write(log_message)\n",
        "\n",
        "def extract(url):\n",
        "    '''\n",
        "    This function retrieves the required table data from the given URL\n",
        "    and returns it as a Pandas DataFrame.\n",
        "    '''\n",
        "    try:\n",
        "        # Send HTTP request to the URL\n",
        "        response = requests.get(url)\n",
        "        response.raise_for_status()  # Raise an exception for HTTP errors\n",
        "\n",
        "        # Parse HTML content\n",
        "        soup = BeautifulSoup(response.text, 'html.parser')\n",
        "\n",
        "        # Find the table with the given class\n",
        "        table = soup.find('table', class_='wikitable')\n",
        "\n",
        "        # Extract table data\n",
        "        data = []\n",
        "        for row in table.find_all('tr')[1:]:  # Exclude header row\n",
        "            cols = row.find_all(['th', 'td'])\n",
        "            cols = [col.text.strip() for col in cols]\n",
        "            data.append(cols)\n",
        "\n",
        "        # Convert data to DataFrame\n",
        "        df = pd.DataFrame(data, columns=['Rank', 'Bank Name', 'Market Cap (US$ Billion)'])\n",
        "\n",
        "        # Remove '\\n' character from Market Cap column and convert to float\n",
        "        df['Market Cap (US$ Billion)'] = df['Market Cap (US$ Billion)'].str.replace('\\n', '').astype(float)\n",
        "\n",
        "        return df\n",
        "\n",
        "    except Exception as e:\n",
        "        print(f\"Error occurred: {e}\")\n",
        "        return None\n",
        "\n",
        "# Function call for extract() and print the returning DataFrame\n",
        "extracted_data = extract(\"https://web.archive.org/web/20230908091635/https://en.wikipedia.org/wiki/List_of_largest_banks\")\n",
        "print(extracted_data)\n",
        "\n",
        "# Log the completion of data extraction\n",
        "log_progress(\"Data extraction complete. Initiating Transformation process\")\n",
        "\n",
        "\n",
        "\n"
      ],
      "metadata": {
        "colab": {
          "base_uri": "https://localhost:8080/"
        },
        "id": "QeVQHUfz2f0_",
        "outputId": "019318c5-6ed2-4fd3-9a1c-cb1da622b21b"
      },
      "execution_count": 11,
      "outputs": [
        {
          "output_type": "stream",
          "name": "stdout",
          "text": [
            "  Rank                                Bank Name  Market Cap (US$ Billion)\n",
            "0    1                           JPMorgan Chase                    432.92\n",
            "1    2                          Bank of America                    231.52\n",
            "2    3  Industrial and Commercial Bank of China                    194.56\n",
            "3    4               Agricultural Bank of China                    160.68\n",
            "4    5                                HDFC Bank                    157.91\n",
            "5    6                              Wells Fargo                    155.87\n",
            "6    7                        HSBC Holdings PLC                    148.90\n",
            "7    8                           Morgan Stanley                    140.83\n",
            "8    9                  China Construction Bank                    139.82\n",
            "9   10                            Bank of China                    136.81\n"
          ]
        }
      ]
    },
    {
      "cell_type": "code",
      "source": [
        "import numpy as np\n",
        "\n",
        "def transform(df, exchange_rate_csv):\n",
        "    # Read exchange rate CSV file and convert contents to a dictionary\n",
        "    exchange_rate_df = pd.read_csv(exchange_rate_csv)\n",
        "    exchange_rate_dict = dict(zip(exchange_rate_df['Currency'], exchange_rate_df['Rate']))\n",
        "\n",
        "    # Add columns for MC_GBP_Billion, MC_EUR_Billion, and MC_INR_Billion\n",
        "    df['MC_GBP_Billion'] = np.round(df['Market Cap (US$ Billion)'] * exchange_rate_dict['GBP'], 2)\n",
        "    df['MC_EUR_Billion'] = np.round(df['Market Cap (US$ Billion)'] * exchange_rate_dict['EUR'], 2)\n",
        "    df['MC_INR_Billion'] = np.round(df['Market Cap (US$ Billion)'] * exchange_rate_dict['INR'], 2)\n",
        "\n",
        "    return df\n",
        "\n",
        "# Function call for transform()\n",
        "transformed_data = transform(extracted_data, 'exchange_rate.csv')\n",
        "print(transformed_data)\n"
      ],
      "metadata": {
        "colab": {
          "base_uri": "https://localhost:8080/"
        },
        "id": "1Kx-PuRG7CKx",
        "outputId": "bf3cea2f-161f-4078-a143-8da20ca16805"
      },
      "execution_count": 13,
      "outputs": [
        {
          "output_type": "stream",
          "name": "stdout",
          "text": [
            "  Rank                                Bank Name  Market Cap (US$ Billion)  \\\n",
            "0    1                           JPMorgan Chase                    432.92   \n",
            "1    2                          Bank of America                    231.52   \n",
            "2    3  Industrial and Commercial Bank of China                    194.56   \n",
            "3    4               Agricultural Bank of China                    160.68   \n",
            "4    5                                HDFC Bank                    157.91   \n",
            "5    6                              Wells Fargo                    155.87   \n",
            "6    7                        HSBC Holdings PLC                    148.90   \n",
            "7    8                           Morgan Stanley                    140.83   \n",
            "8    9                  China Construction Bank                    139.82   \n",
            "9   10                            Bank of China                    136.81   \n",
            "\n",
            "   MC_GBP_Billion  MC_EUR_Billion  MC_INR_Billion  \n",
            "0          346.34          402.62        35910.71  \n",
            "1          185.22          215.31        19204.58  \n",
            "2          155.65          180.94        16138.75  \n",
            "3          128.54          149.43        13328.41  \n",
            "4          126.33          146.86        13098.63  \n",
            "5          124.70          144.96        12929.42  \n",
            "6          119.12          138.48        12351.26  \n",
            "7          112.66          130.97        11681.85  \n",
            "8          111.86          130.03        11598.07  \n",
            "9          109.45          127.23        11348.39  \n"
          ]
        }
      ]
    },
    {
      "cell_type": "code",
      "source": [
        "def load_to_csv(df, output_path):\n",
        "    '''\n",
        "    This function saves the final data frame as a CSV file in the provided path.\n",
        "    Function returns nothing.\n",
        "    '''\n",
        "    df.to_csv(output_path, index=False)\n",
        "    print(\"Data saved to CSV file successfully.\")\n",
        "\n",
        "# Define the output path where you want to save the CSV file\n",
        "output_path = '/content/banks_data_transformed.csv'\n",
        "\n",
        "# Function call to save the transformed DataFrame to a CSV file\n",
        "load_to_csv(transformed_data, output_path)\n"
      ],
      "metadata": {
        "colab": {
          "base_uri": "https://localhost:8080/"
        },
        "id": "hVtcMVjX7m8S",
        "outputId": "b484046d-7f21-445e-8afb-e80110291b19"
      },
      "execution_count": 14,
      "outputs": [
        {
          "output_type": "stream",
          "name": "stdout",
          "text": [
            "Data saved to CSV file successfully.\n"
          ]
        }
      ]
    },
    {
      "cell_type": "code",
      "source": [
        "from google.colab import files\n",
        "\n",
        "# Provide the correct path to the CSV file\n",
        "csv_file_path = '/content/banks_data_transformed.csv'\n",
        "\n",
        "# Download the CSV file\n",
        "files.download(csv_file_path)\n",
        "\n",
        "\n"
      ],
      "metadata": {
        "colab": {
          "base_uri": "https://localhost:8080/",
          "height": 17
        },
        "id": "eCitX2cQ8i-e",
        "outputId": "c83b1d31-1135-4645-8449-99148ac3d363"
      },
      "execution_count": 18,
      "outputs": [
        {
          "output_type": "display_data",
          "data": {
            "text/plain": [
              "<IPython.core.display.Javascript object>"
            ],
            "application/javascript": [
              "\n",
              "    async function download(id, filename, size) {\n",
              "      if (!google.colab.kernel.accessAllowed) {\n",
              "        return;\n",
              "      }\n",
              "      const div = document.createElement('div');\n",
              "      const label = document.createElement('label');\n",
              "      label.textContent = `Downloading \"${filename}\": `;\n",
              "      div.appendChild(label);\n",
              "      const progress = document.createElement('progress');\n",
              "      progress.max = size;\n",
              "      div.appendChild(progress);\n",
              "      document.body.appendChild(div);\n",
              "\n",
              "      const buffers = [];\n",
              "      let downloaded = 0;\n",
              "\n",
              "      const channel = await google.colab.kernel.comms.open(id);\n",
              "      // Send a message to notify the kernel that we're ready.\n",
              "      channel.send({})\n",
              "\n",
              "      for await (const message of channel.messages) {\n",
              "        // Send a message to notify the kernel that we're ready.\n",
              "        channel.send({})\n",
              "        if (message.buffers) {\n",
              "          for (const buffer of message.buffers) {\n",
              "            buffers.push(buffer);\n",
              "            downloaded += buffer.byteLength;\n",
              "            progress.value = downloaded;\n",
              "          }\n",
              "        }\n",
              "      }\n",
              "      const blob = new Blob(buffers, {type: 'application/binary'});\n",
              "      const a = document.createElement('a');\n",
              "      a.href = window.URL.createObjectURL(blob);\n",
              "      a.download = filename;\n",
              "      div.appendChild(a);\n",
              "      a.click();\n",
              "      div.remove();\n",
              "    }\n",
              "  "
            ]
          },
          "metadata": {}
        },
        {
          "output_type": "display_data",
          "data": {
            "text/plain": [
              "<IPython.core.display.Javascript object>"
            ],
            "application/javascript": [
              "download(\"download_f7824ea6-2438-48c9-a148-e8b299cb254f\", \"banks_data_transformed.csv\", 595)"
            ]
          },
          "metadata": {}
        }
      ]
    },
    {
      "cell_type": "code",
      "source": [
        "import sqlite3\n",
        "\n",
        "def run_queries(query, conn):\n",
        "    \"\"\"\n",
        "    Executes the provided SQLite query and prints the query statement along with the query output.\n",
        "\n",
        "    Parameters:\n",
        "    - query: A string representing the SQLite query statement.\n",
        "    - conn: SQLite3 Connection object.\n",
        "\n",
        "    Returns:\n",
        "    - None\n",
        "    \"\"\"\n",
        "    try:\n",
        "        # Create a cursor object\n",
        "        cursor = conn.cursor()\n",
        "\n",
        "        # Execute the query\n",
        "        cursor.execute(query)\n",
        "\n",
        "        # Fetch all results\n",
        "        results = cursor.fetchall()\n",
        "\n",
        "        # Print the query statement\n",
        "        print(\"Query Statement:\")\n",
        "        print(query)\n",
        "\n",
        "        # Print the query output\n",
        "        print(\"Query Output:\")\n",
        "        for row in results:\n",
        "            print(row)\n",
        "\n",
        "    except sqlite3.Error as e:\n",
        "        print(\"Error executing SQLite query:\", e)\n",
        "\n",
        "# Connect to an SQLite database\n",
        "conn = sqlite3.connect(':memory:')  # In-memory database for demonstration purposes\n",
        "\n",
        "# Create a table 'Largest_banks' for demonstration\n",
        "create_table_query = \"\"\"\n",
        "CREATE TABLE IF NOT EXISTS Largest_banks (\n",
        "    Name TEXT,\n",
        "    MC_GBP_Billion REAL\n",
        ");\n",
        "\"\"\"\n",
        "conn.execute(create_table_query)\n",
        "\n",
        "# Insert some sample data into 'Largest_banks'\n",
        "insert_data_query = \"\"\"\n",
        "INSERT INTO Largest_banks (Name, MC_GBP_Billion)\n",
        "VALUES ('Bank A', 100),\n",
        "       ('Bank B', 200),\n",
        "       ('Bank C', 300),\n",
        "       ('Bank D', 400),\n",
        "       ('Bank E', 500);\n",
        "\"\"\"\n",
        "conn.execute(insert_data_query)\n",
        "\n",
        "# Run the provided queries\n",
        "queries = [\n",
        "    \"SELECT * FROM Largest_banks\",\n",
        "    \"SELECT AVG(MC_GBP_Billion) FROM Largest_banks\",\n",
        "    \"SELECT Name FROM Largest_banks LIMIT 5\"\n",
        "]\n",
        "\n",
        "for query in queries:\n",
        "    print(\"\\nExecuting query:\\n\", query)\n",
        "    run_queries(query, conn)\n",
        "\n",
        "conn.close()\n"
      ],
      "metadata": {
        "colab": {
          "base_uri": "https://localhost:8080/"
        },
        "id": "CVxGB7PbMdt8",
        "outputId": "45e133a1-00da-41c3-cdbb-7a663ab9722b"
      },
      "execution_count": 20,
      "outputs": [
        {
          "output_type": "stream",
          "name": "stdout",
          "text": [
            "\n",
            "Executing query:\n",
            " SELECT * FROM Largest_banks\n",
            "Query Statement:\n",
            "SELECT * FROM Largest_banks\n",
            "Query Output:\n",
            "('Bank A', 100.0)\n",
            "('Bank B', 200.0)\n",
            "('Bank C', 300.0)\n",
            "('Bank D', 400.0)\n",
            "('Bank E', 500.0)\n",
            "\n",
            "Executing query:\n",
            " SELECT AVG(MC_GBP_Billion) FROM Largest_banks\n",
            "Query Statement:\n",
            "SELECT AVG(MC_GBP_Billion) FROM Largest_banks\n",
            "Query Output:\n",
            "(300.0,)\n",
            "\n",
            "Executing query:\n",
            " SELECT Name FROM Largest_banks LIMIT 5\n",
            "Query Statement:\n",
            "SELECT Name FROM Largest_banks LIMIT 5\n",
            "Query Output:\n",
            "('Bank A',)\n",
            "('Bank B',)\n",
            "('Bank C',)\n",
            "('Bank D',)\n",
            "('Bank E',)\n"
          ]
        }
      ]
    }
  ]
}